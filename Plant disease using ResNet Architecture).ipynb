{
  "nbformat": 4,
  "nbformat_minor": 0,
  "metadata": {
    "colab": {
      "provenance": [],
      "gpuType": "T4"
    },
    "kernelspec": {
      "name": "python3",
      "display_name": "Python 3"
    },
    "language_info": {
      "name": "python"
    },
    "accelerator": "GPU"
  },
  "cells": [
    {
      "cell_type": "code",
      "execution_count": 1,
      "metadata": {
        "id": "xZ2bsgJ77HFL"
      },
      "outputs": [],
      "source": [
        "import tensorflow as tf\n",
        "from tensorflow.keras.models import Model\n",
        "from tensorflow.keras.layers import Input, Conv2D, MaxPooling2D, Flatten, Dense, Add, Dropout, BatchNormalization, Activation\n",
        "from tensorflow.keras.regularizers import l2\n",
        "from tensorflow.keras.preprocessing.image import ImageDataGenerator\n",
        "from tensorflow.keras.callbacks import EarlyStopping, LearningRateScheduler"
      ]
    },
    {
      "cell_type": "code",
      "source": [
        "from google.colab import drive\n",
        "drive.mount('/content/drive')"
      ],
      "metadata": {
        "colab": {
          "base_uri": "https://localhost:8080/"
        },
        "id": "-34-5Ss49-Ed",
        "outputId": "e179d422-5ff7-449c-b4a4-98e800e31c9f"
      },
      "execution_count": 2,
      "outputs": [
        {
          "output_type": "stream",
          "name": "stdout",
          "text": [
            "Mounted at /content/drive\n"
          ]
        }
      ]
    },
    {
      "cell_type": "code",
      "source": [
        "def residual_block(x, filters, kernel_size=3, stride=1):\n",
        "    shortcut = x\n",
        "\n",
        "    x = Conv2D(filters, kernel_size=kernel_size, strides=stride, padding='same', kernel_regularizer=l2(0.01))(x)\n",
        "    x = BatchNormalization()(x)\n",
        "    x = Activation('relu')(x)\n",
        "\n",
        "    x = Conv2D(filters, kernel_size=kernel_size, strides=1, padding='same', kernel_regularizer=l2(0.01))(x)\n",
        "    x = BatchNormalization()(x)\n",
        "\n",
        "    if stride != 1 or x.shape[-1] != shortcut.shape[-1]:\n",
        "        shortcut = Conv2D(filters, kernel_size=1, strides=stride, padding='same', kernel_regularizer=l2(0.01))(shortcut)\n",
        "        shortcut = BatchNormalization()(shortcut)\n",
        "\n",
        "    x = Add()([x, shortcut])\n",
        "    x = Activation('relu')(x)\n",
        "\n",
        "    return x"
      ],
      "metadata": {
        "id": "OZOCIXZN-Tjj"
      },
      "execution_count": 3,
      "outputs": []
    },
    {
      "cell_type": "code",
      "source": [
        "input_layer = Input(shape=(224, 224, 3))\n",
        "\n",
        "x = Conv2D(64, (7, 7), strides=2, padding='same', kernel_regularizer=l2(0.01))(input_layer)\n",
        "x = BatchNormalization()(x)\n",
        "x = Activation('relu')(x)\n",
        "x = MaxPooling2D((3, 3), strides=2, padding='same')(x)\n",
        "\n",
        "x = residual_block(x, 64)\n",
        "x = residual_block(x, 64)\n",
        "\n",
        "x = residual_block(x, 128, stride=2)\n",
        "x = residual_block(x, 128)\n",
        "\n",
        "x = residual_block(x, 256, stride=2)\n",
        "x = residual_block(x, 256)\n",
        "\n",
        "x = residual_block(x, 512, stride=2)\n",
        "x = residual_block(x, 512)\n",
        "\n",
        "x = Flatten()(x)\n",
        "x = Dense(256, activation='relu', kernel_regularizer=l2(0.01))(x)\n",
        "x = Dropout(0.5)(x)\n",
        "output_layer = Dense(1, activation='sigmoid', kernel_regularizer=l2(0.01))(x)\n",
        "\n",
        "model = Model(inputs=input_layer, outputs=output_layer)"
      ],
      "metadata": {
        "id": "dOr352BL-dcb"
      },
      "execution_count": 4,
      "outputs": []
    },
    {
      "cell_type": "code",
      "source": [
        "model.compile(optimizer='adam', loss='binary_crossentropy', metrics=['accuracy'])"
      ],
      "metadata": {
        "id": "bEKfNmYp-iUh"
      },
      "execution_count": 5,
      "outputs": []
    },
    {
      "cell_type": "code",
      "source": [
        "model.summary()"
      ],
      "metadata": {
        "colab": {
          "base_uri": "https://localhost:8080/"
        },
        "collapsed": true,
        "id": "bcXxWVoT-l-8",
        "outputId": "3b81d0b5-5e5a-418f-8a67-e96913f36b0b"
      },
      "execution_count": 6,
      "outputs": [
        {
          "output_type": "stream",
          "name": "stdout",
          "text": [
            "Model: \"model\"\n",
            "__________________________________________________________________________________________________\n",
            " Layer (type)                Output Shape                 Param #   Connected to                  \n",
            "==================================================================================================\n",
            " input_1 (InputLayer)        [(None, 224, 224, 3)]        0         []                            \n",
            "                                                                                                  \n",
            " conv2d (Conv2D)             (None, 112, 112, 64)         9472      ['input_1[0][0]']             \n",
            "                                                                                                  \n",
            " batch_normalization (Batch  (None, 112, 112, 64)         256       ['conv2d[0][0]']              \n",
            " Normalization)                                                                                   \n",
            "                                                                                                  \n",
            " activation (Activation)     (None, 112, 112, 64)         0         ['batch_normalization[0][0]'] \n",
            "                                                                                                  \n",
            " max_pooling2d (MaxPooling2  (None, 56, 56, 64)           0         ['activation[0][0]']          \n",
            " D)                                                                                               \n",
            "                                                                                                  \n",
            " conv2d_1 (Conv2D)           (None, 56, 56, 64)           36928     ['max_pooling2d[0][0]']       \n",
            "                                                                                                  \n",
            " batch_normalization_1 (Bat  (None, 56, 56, 64)           256       ['conv2d_1[0][0]']            \n",
            " chNormalization)                                                                                 \n",
            "                                                                                                  \n",
            " activation_1 (Activation)   (None, 56, 56, 64)           0         ['batch_normalization_1[0][0]'\n",
            "                                                                    ]                             \n",
            "                                                                                                  \n",
            " conv2d_2 (Conv2D)           (None, 56, 56, 64)           36928     ['activation_1[0][0]']        \n",
            "                                                                                                  \n",
            " batch_normalization_2 (Bat  (None, 56, 56, 64)           256       ['conv2d_2[0][0]']            \n",
            " chNormalization)                                                                                 \n",
            "                                                                                                  \n",
            " add (Add)                   (None, 56, 56, 64)           0         ['batch_normalization_2[0][0]'\n",
            "                                                                    , 'max_pooling2d[0][0]']      \n",
            "                                                                                                  \n",
            " activation_2 (Activation)   (None, 56, 56, 64)           0         ['add[0][0]']                 \n",
            "                                                                                                  \n",
            " conv2d_3 (Conv2D)           (None, 56, 56, 64)           36928     ['activation_2[0][0]']        \n",
            "                                                                                                  \n",
            " batch_normalization_3 (Bat  (None, 56, 56, 64)           256       ['conv2d_3[0][0]']            \n",
            " chNormalization)                                                                                 \n",
            "                                                                                                  \n",
            " activation_3 (Activation)   (None, 56, 56, 64)           0         ['batch_normalization_3[0][0]'\n",
            "                                                                    ]                             \n",
            "                                                                                                  \n",
            " conv2d_4 (Conv2D)           (None, 56, 56, 64)           36928     ['activation_3[0][0]']        \n",
            "                                                                                                  \n",
            " batch_normalization_4 (Bat  (None, 56, 56, 64)           256       ['conv2d_4[0][0]']            \n",
            " chNormalization)                                                                                 \n",
            "                                                                                                  \n",
            " add_1 (Add)                 (None, 56, 56, 64)           0         ['batch_normalization_4[0][0]'\n",
            "                                                                    , 'activation_2[0][0]']       \n",
            "                                                                                                  \n",
            " activation_4 (Activation)   (None, 56, 56, 64)           0         ['add_1[0][0]']               \n",
            "                                                                                                  \n",
            " conv2d_5 (Conv2D)           (None, 28, 28, 128)          73856     ['activation_4[0][0]']        \n",
            "                                                                                                  \n",
            " batch_normalization_5 (Bat  (None, 28, 28, 128)          512       ['conv2d_5[0][0]']            \n",
            " chNormalization)                                                                                 \n",
            "                                                                                                  \n",
            " activation_5 (Activation)   (None, 28, 28, 128)          0         ['batch_normalization_5[0][0]'\n",
            "                                                                    ]                             \n",
            "                                                                                                  \n",
            " conv2d_6 (Conv2D)           (None, 28, 28, 128)          147584    ['activation_5[0][0]']        \n",
            "                                                                                                  \n",
            " conv2d_7 (Conv2D)           (None, 28, 28, 128)          8320      ['activation_4[0][0]']        \n",
            "                                                                                                  \n",
            " batch_normalization_6 (Bat  (None, 28, 28, 128)          512       ['conv2d_6[0][0]']            \n",
            " chNormalization)                                                                                 \n",
            "                                                                                                  \n",
            " batch_normalization_7 (Bat  (None, 28, 28, 128)          512       ['conv2d_7[0][0]']            \n",
            " chNormalization)                                                                                 \n",
            "                                                                                                  \n",
            " add_2 (Add)                 (None, 28, 28, 128)          0         ['batch_normalization_6[0][0]'\n",
            "                                                                    , 'batch_normalization_7[0][0]\n",
            "                                                                    ']                            \n",
            "                                                                                                  \n",
            " activation_6 (Activation)   (None, 28, 28, 128)          0         ['add_2[0][0]']               \n",
            "                                                                                                  \n",
            " conv2d_8 (Conv2D)           (None, 28, 28, 128)          147584    ['activation_6[0][0]']        \n",
            "                                                                                                  \n",
            " batch_normalization_8 (Bat  (None, 28, 28, 128)          512       ['conv2d_8[0][0]']            \n",
            " chNormalization)                                                                                 \n",
            "                                                                                                  \n",
            " activation_7 (Activation)   (None, 28, 28, 128)          0         ['batch_normalization_8[0][0]'\n",
            "                                                                    ]                             \n",
            "                                                                                                  \n",
            " conv2d_9 (Conv2D)           (None, 28, 28, 128)          147584    ['activation_7[0][0]']        \n",
            "                                                                                                  \n",
            " batch_normalization_9 (Bat  (None, 28, 28, 128)          512       ['conv2d_9[0][0]']            \n",
            " chNormalization)                                                                                 \n",
            "                                                                                                  \n",
            " add_3 (Add)                 (None, 28, 28, 128)          0         ['batch_normalization_9[0][0]'\n",
            "                                                                    , 'activation_6[0][0]']       \n",
            "                                                                                                  \n",
            " activation_8 (Activation)   (None, 28, 28, 128)          0         ['add_3[0][0]']               \n",
            "                                                                                                  \n",
            " conv2d_10 (Conv2D)          (None, 14, 14, 256)          295168    ['activation_8[0][0]']        \n",
            "                                                                                                  \n",
            " batch_normalization_10 (Ba  (None, 14, 14, 256)          1024      ['conv2d_10[0][0]']           \n",
            " tchNormalization)                                                                                \n",
            "                                                                                                  \n",
            " activation_9 (Activation)   (None, 14, 14, 256)          0         ['batch_normalization_10[0][0]\n",
            "                                                                    ']                            \n",
            "                                                                                                  \n",
            " conv2d_11 (Conv2D)          (None, 14, 14, 256)          590080    ['activation_9[0][0]']        \n",
            "                                                                                                  \n",
            " conv2d_12 (Conv2D)          (None, 14, 14, 256)          33024     ['activation_8[0][0]']        \n",
            "                                                                                                  \n",
            " batch_normalization_11 (Ba  (None, 14, 14, 256)          1024      ['conv2d_11[0][0]']           \n",
            " tchNormalization)                                                                                \n",
            "                                                                                                  \n",
            " batch_normalization_12 (Ba  (None, 14, 14, 256)          1024      ['conv2d_12[0][0]']           \n",
            " tchNormalization)                                                                                \n",
            "                                                                                                  \n",
            " add_4 (Add)                 (None, 14, 14, 256)          0         ['batch_normalization_11[0][0]\n",
            "                                                                    ',                            \n",
            "                                                                     'batch_normalization_12[0][0]\n",
            "                                                                    ']                            \n",
            "                                                                                                  \n",
            " activation_10 (Activation)  (None, 14, 14, 256)          0         ['add_4[0][0]']               \n",
            "                                                                                                  \n",
            " conv2d_13 (Conv2D)          (None, 14, 14, 256)          590080    ['activation_10[0][0]']       \n",
            "                                                                                                  \n",
            " batch_normalization_13 (Ba  (None, 14, 14, 256)          1024      ['conv2d_13[0][0]']           \n",
            " tchNormalization)                                                                                \n",
            "                                                                                                  \n",
            " activation_11 (Activation)  (None, 14, 14, 256)          0         ['batch_normalization_13[0][0]\n",
            "                                                                    ']                            \n",
            "                                                                                                  \n",
            " conv2d_14 (Conv2D)          (None, 14, 14, 256)          590080    ['activation_11[0][0]']       \n",
            "                                                                                                  \n",
            " batch_normalization_14 (Ba  (None, 14, 14, 256)          1024      ['conv2d_14[0][0]']           \n",
            " tchNormalization)                                                                                \n",
            "                                                                                                  \n",
            " add_5 (Add)                 (None, 14, 14, 256)          0         ['batch_normalization_14[0][0]\n",
            "                                                                    ',                            \n",
            "                                                                     'activation_10[0][0]']       \n",
            "                                                                                                  \n",
            " activation_12 (Activation)  (None, 14, 14, 256)          0         ['add_5[0][0]']               \n",
            "                                                                                                  \n",
            " conv2d_15 (Conv2D)          (None, 7, 7, 512)            1180160   ['activation_12[0][0]']       \n",
            "                                                                                                  \n",
            " batch_normalization_15 (Ba  (None, 7, 7, 512)            2048      ['conv2d_15[0][0]']           \n",
            " tchNormalization)                                                                                \n",
            "                                                                                                  \n",
            " activation_13 (Activation)  (None, 7, 7, 512)            0         ['batch_normalization_15[0][0]\n",
            "                                                                    ']                            \n",
            "                                                                                                  \n",
            " conv2d_16 (Conv2D)          (None, 7, 7, 512)            2359808   ['activation_13[0][0]']       \n",
            "                                                                                                  \n",
            " conv2d_17 (Conv2D)          (None, 7, 7, 512)            131584    ['activation_12[0][0]']       \n",
            "                                                                                                  \n",
            " batch_normalization_16 (Ba  (None, 7, 7, 512)            2048      ['conv2d_16[0][0]']           \n",
            " tchNormalization)                                                                                \n",
            "                                                                                                  \n",
            " batch_normalization_17 (Ba  (None, 7, 7, 512)            2048      ['conv2d_17[0][0]']           \n",
            " tchNormalization)                                                                                \n",
            "                                                                                                  \n",
            " add_6 (Add)                 (None, 7, 7, 512)            0         ['batch_normalization_16[0][0]\n",
            "                                                                    ',                            \n",
            "                                                                     'batch_normalization_17[0][0]\n",
            "                                                                    ']                            \n",
            "                                                                                                  \n",
            " activation_14 (Activation)  (None, 7, 7, 512)            0         ['add_6[0][0]']               \n",
            "                                                                                                  \n",
            " conv2d_18 (Conv2D)          (None, 7, 7, 512)            2359808   ['activation_14[0][0]']       \n",
            "                                                                                                  \n",
            " batch_normalization_18 (Ba  (None, 7, 7, 512)            2048      ['conv2d_18[0][0]']           \n",
            " tchNormalization)                                                                                \n",
            "                                                                                                  \n",
            " activation_15 (Activation)  (None, 7, 7, 512)            0         ['batch_normalization_18[0][0]\n",
            "                                                                    ']                            \n",
            "                                                                                                  \n",
            " conv2d_19 (Conv2D)          (None, 7, 7, 512)            2359808   ['activation_15[0][0]']       \n",
            "                                                                                                  \n",
            " batch_normalization_19 (Ba  (None, 7, 7, 512)            2048      ['conv2d_19[0][0]']           \n",
            " tchNormalization)                                                                                \n",
            "                                                                                                  \n",
            " add_7 (Add)                 (None, 7, 7, 512)            0         ['batch_normalization_19[0][0]\n",
            "                                                                    ',                            \n",
            "                                                                     'activation_14[0][0]']       \n",
            "                                                                                                  \n",
            " activation_16 (Activation)  (None, 7, 7, 512)            0         ['add_7[0][0]']               \n",
            "                                                                                                  \n",
            " flatten (Flatten)           (None, 25088)                0         ['activation_16[0][0]']       \n",
            "                                                                                                  \n",
            " dense (Dense)               (None, 256)                  6422784   ['flatten[0][0]']             \n",
            "                                                                                                  \n",
            " dropout (Dropout)           (None, 256)                  0         ['dense[0][0]']               \n",
            "                                                                                                  \n",
            " dense_1 (Dense)             (None, 1)                    257       ['dropout[0][0]']             \n",
            "                                                                                                  \n",
            "==================================================================================================\n",
            "Total params: 17613953 (67.19 MB)\n",
            "Trainable params: 17604353 (67.16 MB)\n",
            "Non-trainable params: 9600 (37.50 KB)\n",
            "__________________________________________________________________________________________________\n"
          ]
        }
      ]
    },
    {
      "cell_type": "code",
      "source": [
        "train_datagen = ImageDataGenerator(\n",
        "    rescale=1./255,\n",
        "    shear_range=0.2,\n",
        "    zoom_range=0.2,\n",
        "    horizontal_flip=True,\n",
        "    validation_split=0.2  # Set aside 10% of data for validation\n",
        ")\n",
        "\n",
        "train_generator = train_datagen.flow_from_directory(\n",
        "    'drive/MyDrive/plant deseases/Plant disease detection  Dataset/Plant disease detection  Dataset',\n",
        "    target_size=(224, 224),\n",
        "    batch_size=32,\n",
        "    class_mode='binary',\n",
        "    subset='training'  # Set as training data\n",
        ")\n",
        "\n",
        "validation_generator = train_datagen.flow_from_directory(\n",
        "    'drive/MyDrive/plant deseases/Plant disease detection  Dataset/Plant disease detection  Dataset',\n",
        "    target_size=(224, 224),\n",
        "    batch_size=32,\n",
        "    class_mode='binary',\n",
        "    subset='validation'  # Set as validation data\n",
        ")"
      ],
      "metadata": {
        "colab": {
          "base_uri": "https://localhost:8080/"
        },
        "id": "XYTkRoCp-sYz",
        "outputId": "978f7220-297b-4b3b-90b0-93a494843786"
      },
      "execution_count": 18,
      "outputs": [
        {
          "output_type": "stream",
          "name": "stdout",
          "text": [
            "Found 329 images belonging to 2 classes.\n",
            "Found 81 images belonging to 2 classes.\n"
          ]
        }
      ]
    },
    {
      "cell_type": "code",
      "source": [
        "early_stopping = EarlyStopping(monitor='val_loss', patience=10, restore_best_weights=True)\n",
        "\n",
        "def scheduler(epoch, lr):\n",
        "    if epoch < 10:\n",
        "        return lr\n",
        "    else:\n",
        "        return lr * tf.math.exp(-0.1)\n",
        "\n",
        "lr_scheduler = LearningRateScheduler(scheduler)"
      ],
      "metadata": {
        "id": "IFi8t1O5_Fav"
      },
      "execution_count": 19,
      "outputs": []
    },
    {
      "cell_type": "code",
      "source": [
        "# Train the model\n",
        "history = model.fit(\n",
        "    train_generator,\n",
        "    steps_per_epoch=train_generator.samples // train_generator.batch_size,\n",
        "    validation_data=validation_generator,\n",
        "    validation_steps=validation_generator.samples // validation_generator.batch_size,\n",
        "    epochs=50,  # Increase epochs for better convergence\n",
        "    callbacks=[early_stopping, lr_scheduler]\n",
        ")"
      ],
      "metadata": {
        "colab": {
          "base_uri": "https://localhost:8080/"
        },
        "id": "kja3_2Vw_I6C",
        "outputId": "3cd49dbb-e8c4-4994-f74a-42ff2c47d5d0"
      },
      "execution_count": 20,
      "outputs": [
        {
          "output_type": "stream",
          "name": "stdout",
          "text": [
            "Epoch 1/50\n",
            "10/10 [==============================] - 9s 892ms/step - loss: 5.9621 - accuracy: 0.9832 - val_loss: 6.2957 - val_accuracy: 0.7969 - lr: 2.2371e-05\n",
            "Epoch 2/50\n",
            "10/10 [==============================] - 6s 611ms/step - loss: 5.9199 - accuracy: 1.0000 - val_loss: 6.2804 - val_accuracy: 0.8281 - lr: 2.2371e-05\n",
            "Epoch 3/50\n",
            "10/10 [==============================] - 8s 825ms/step - loss: 5.9128 - accuracy: 0.9933 - val_loss: 6.3957 - val_accuracy: 0.7656 - lr: 2.2371e-05\n",
            "Epoch 4/50\n",
            "10/10 [==============================] - 6s 603ms/step - loss: 5.8929 - accuracy: 0.9933 - val_loss: 6.3544 - val_accuracy: 0.7344 - lr: 2.2371e-05\n",
            "Epoch 5/50\n",
            "10/10 [==============================] - 6s 611ms/step - loss: 5.8675 - accuracy: 1.0000 - val_loss: 6.3599 - val_accuracy: 0.7344 - lr: 2.2371e-05\n",
            "Epoch 6/50\n",
            "10/10 [==============================] - 7s 739ms/step - loss: 5.8461 - accuracy: 0.9966 - val_loss: 6.3888 - val_accuracy: 0.7500 - lr: 2.2371e-05\n",
            "Epoch 7/50\n",
            "10/10 [==============================] - 6s 653ms/step - loss: 5.8334 - accuracy: 0.9899 - val_loss: 6.3481 - val_accuracy: 0.7188 - lr: 2.2371e-05\n",
            "Epoch 8/50\n",
            "10/10 [==============================] - 7s 734ms/step - loss: 5.8100 - accuracy: 0.9966 - val_loss: 6.3491 - val_accuracy: 0.7500 - lr: 2.2371e-05\n",
            "Epoch 9/50\n",
            "10/10 [==============================] - 6s 606ms/step - loss: 5.7969 - accuracy: 0.9865 - val_loss: 6.2876 - val_accuracy: 0.7812 - lr: 2.2371e-05\n",
            "Epoch 10/50\n",
            "10/10 [==============================] - 6s 628ms/step - loss: 5.7749 - accuracy: 0.9899 - val_loss: 6.3708 - val_accuracy: 0.7031 - lr: 2.2371e-05\n",
            "Epoch 11/50\n",
            "10/10 [==============================] - 7s 799ms/step - loss: 5.7483 - accuracy: 0.9899 - val_loss: 6.3806 - val_accuracy: 0.7031 - lr: 2.0242e-05\n",
            "Epoch 12/50\n",
            "10/10 [==============================] - 6s 616ms/step - loss: 5.7306 - accuracy: 0.9966 - val_loss: 6.3842 - val_accuracy: 0.7031 - lr: 1.8316e-05\n"
          ]
        }
      ]
    },
    {
      "cell_type": "code",
      "source": [
        "# Evaluate the model\n",
        "evaluation = model.evaluate(validation_generator)\n",
        "print(f\"Validation Loss: {evaluation[0]}\")\n",
        "print(f\"Validation Accuracy: {evaluation[1]}\")"
      ],
      "metadata": {
        "colab": {
          "base_uri": "https://localhost:8080/"
        },
        "id": "xWgGx8f4_wkv",
        "outputId": "2a0e873a-9f0f-408f-9d5b-e6e3e023acb7"
      },
      "execution_count": 15,
      "outputs": [
        {
          "output_type": "stream",
          "name": "stdout",
          "text": [
            "2/2 [==============================] - 1s 104ms/step - loss: 6.5017 - accuracy: 0.6500\n",
            "Validation Loss: 6.501716613769531\n",
            "Validation Accuracy: 0.6499999761581421\n"
          ]
        }
      ]
    },
    {
      "cell_type": "code",
      "source": [
        "# Plot training history\n",
        "import matplotlib.pyplot as plt\n",
        "\n",
        "plt.figure(figsize=(12, 4))\n",
        "plt.subplot(1, 2, 1)\n",
        "plt.plot(history.history['loss'], label='Training Loss')\n",
        "plt.plot(history.history['val_loss'], label='Validation Loss')\n",
        "plt.title('Loss')\n",
        "plt.legend()\n",
        "\n",
        "plt.subplot(1, 2, 2)\n",
        "plt.plot(history.history['accuracy'], label='Training Accuracy')\n",
        "plt.plot(history.history['val_accuracy'], label='Validation Accuracy')\n",
        "plt.title('Accuracy')\n",
        "plt.legend()\n",
        "\n",
        "plt.show()"
      ],
      "metadata": {
        "colab": {
          "base_uri": "https://localhost:8080/",
          "height": 391
        },
        "id": "uF5_Z_jW_xfI",
        "outputId": "44cd7b5e-f119-4f6b-8c0a-7581eb21ef55"
      },
      "execution_count": 17,
      "outputs": [
        {
          "output_type": "display_data",
          "data": {
            "text/plain": [
              "<Figure size 1200x400 with 2 Axes>"
            ],
            "image/png": "[encoded data removed]"
          },
          "metadata": {}
        }
      ]
    },
    {
      "cell_type": "code",
      "source": [
        "from google.colab import files\n",
        "uploaded = files.upload()\n",
        "image_path = next(iter(uploaded.keys()))"
      ],
      "metadata": {
        "colab": {
          "base_uri": "https://localhost:8080/",
          "height": 73
        },
        "id": "NAObPcW1_3HV",
        "outputId": "8607bca5-01b6-4f21-8b60-7f7a00292c31"
      },
      "execution_count": 12,
      "outputs": [
        {
          "output_type": "display_data",
          "data": {
            "text/plain": [
              "<IPython.core.display.HTML object>"
            ],
            "text/html": [
              "\n",
              "     <input type=\"file\" id=\"files-3c8ea6a1-16d1-495e-a87c-ed48d8dee6d9\" name=\"files[]\" multiple disabled\n",
              "        style=\"border:none\" />\n",
              "     <output id=\"result-3c8ea6a1-16d1-495e-a87c-ed48d8dee6d9\">\n",
              "      Upload widget is only available when the cell has been executed in the\n",
              "      current browser session. Please rerun this cell to enable.\n",
              "      </output>\n",
              "      <script>// Copyright 2017 Google LLC\n",
              "//\n",
              "// Licensed under the Apache License, Version 2.0 (the \"License\");\n",
              "// you may not use this file except in compliance with the License.\n",
              "// You may obtain a copy of the License at\n",
              "//\n",
              "//      http://www.apache.org/licenses/LICENSE-2.0\n",
              "//\n",
              "// Unless required by applicable law or agreed to in writing, software\n",
              "// distributed under the License is distributed on an \"AS IS\" BASIS,\n",
              "// WITHOUT WARRANTIES OR CONDITIONS OF ANY KIND, either express or implied.\n",
              "// See the License for the specific language governing permissions and\n",
              "// limitations under the License.\n",
              "\n",
              "/**\n",
              " * @fileoverview Helpers for google.colab Python module.\n",
              " */\n",
              "(function(scope) {\n",
              "function span(text, styleAttributes = {}) {\n",
              "  const element = document.createElement('span');\n",
              "  element.textContent = text;\n",
              "  for (const key of Object.keys(styleAttributes)) {\n",
              "    element.style[key] = styleAttributes[key];\n",
              "  }\n",
              "  return element;\n",
              "}\n",
              "\n",
              "// Max number of bytes which will be uploaded at a time.\n",
              "const MAX_PAYLOAD_SIZE = 100 * 1024;\n",
              "\n",
              "function _uploadFiles(inputId, outputId) {\n",
              "  const steps = uploadFilesStep(inputId, outputId);\n",
              "  const outputElement = document.getElementById(outputId);\n",
              "  // Cache steps on the outputElement to make it available for the next call\n",
              "  // to uploadFilesContinue from Python.\n",
              "  outputElement.steps = steps;\n",
              "\n",
              "  return _uploadFilesContinue(outputId);\n",
              "}\n",
              "\n",
              "// This is roughly an async generator (not supported in the browser yet),\n",
              "// where there are multiple asynchronous steps and the Python side is going\n",
              "// to poll for completion of each step.\n",
              "// This uses a Promise to block the python side on completion of each step,\n",
              "// then passes the result of the previous step as the input to the next step.\n",
              "function _uploadFilesContinue(outputId) {\n",
              "  const outputElement = document.getElementById(outputId);\n",
              "  const steps = outputElement.steps;\n",
              "\n",
              "  const next = steps.next(outputElement.lastPromiseValue);\n",
              "  return Promise.resolve(next.value.promise).then((value) => {\n",
              "    // Cache the last promise value to make it available to the next\n",
              "    // step of the generator.\n",
              "    outputElement.lastPromiseValue = value;\n",
              "    return next.value.response;\n",
              "  });\n",
              "}\n",
              "\n",
              "/**\n",
              " * Generator function which is called between each async step of the upload\n",
              " * process.\n",
              " * @param {string} inputId Element ID of the input file picker element.\n",
              " * @param {string} outputId Element ID of the output display.\n",
              " * @return {!Iterable<!Object>} Iterable of next steps.\n",
              " */\n",
              "function* uploadFilesStep(inputId, outputId) {\n",
              "  const inputElement = document.getElementById(inputId);\n",
              "  inputElement.disabled = false;\n",
              "\n",
              "  const outputElement = document.getElementById(outputId);\n",
              "  outputElement.innerHTML = '';\n",
              "\n",
              "  const pickedPromise = new Promise((resolve) => {\n",
              "    inputElement.addEventListener('change', (e) => {\n",
              "      resolve(e.target.files);\n",
              "    });\n",
              "  });\n",
              "\n",
              "  const cancel = document.createElement('button');\n",
              "  inputElement.parentElement.appendChild(cancel);\n",
              "  cancel.textContent = 'Cancel upload';\n",
              "  const cancelPromise = new Promise((resolve) => {\n",
              "    cancel.onclick = () => {\n",
              "      resolve(null);\n",
              "    };\n",
              "  });\n",
              "\n",
              "  // Wait for the user to pick the files.\n",
              "  const files = yield {\n",
              "    promise: Promise.race([pickedPromise, cancelPromise]),\n",
              "    response: {\n",
              "      action: 'starting',\n",
              "    }\n",
              "  };\n",
              "\n",
              "  cancel.remove();\n",
              "\n",
              "  // Disable the input element since further picks are not allowed.\n",
              "  inputElement.disabled = true;\n",
              "\n",
              "  if (!files) {\n",
              "    return {\n",
              "      response: {\n",
              "        action: 'complete',\n",
              "      }\n",
              "    };\n",
              "  }\n",
              "\n",
              "  for (const file of files) {\n",
              "    const li = document.createElement('li');\n",
              "    li.append(span(file.name, {fontWeight: 'bold'}));\n",
              "    li.append(span(\n",
              "        `(${file.type || 'n/a'}) - ${file.size} bytes, ` +\n",
              "        `last modified: ${\n",
              "            file.lastModifiedDate ? file.lastModifiedDate.toLocaleDateString() :\n",
              "                                    'n/a'} - `));\n",
              "    const percent = span('0% done');\n",
              "    li.appendChild(percent);\n",
              "\n",
              "    outputElement.appendChild(li);\n",
              "\n",
              "    const fileDataPromise = new Promise((resolve) => {\n",
              "      const reader = new FileReader();\n",
              "      reader.onload = (e) => {\n",
              "        resolve(e.target.result);\n",
              "      };\n",
              "      reader.readAsArrayBuffer(file);\n",
              "    });\n",
              "    // Wait for the data to be ready.\n",
              "    let fileData = yield {\n",
              "      promise: fileDataPromise,\n",
              "      response: {\n",
              "        action: 'continue',\n",
              "      }\n",
              "    };\n",
              "\n",
              "    // Use a chunked sending to avoid message size limits. See b/62115660.\n",
              "    let position = 0;\n",
              "    do {\n",
              "      const length = Math.min(fileData.byteLength - position, MAX_PAYLOAD_SIZE);\n",
              "      const chunk = new Uint8Array(fileData, position, length);\n",
              "      position += length;\n",
              "\n",
              "      const base64 = btoa(String.fromCharCode.apply(null, chunk));\n",
              "      yield {\n",
              "        response: {\n",
              "          action: 'append',\n",
              "          file: file.name,\n",
              "          data: base64,\n",
              "        },\n",
              "      };\n",
              "\n",
              "      let percentDone = fileData.byteLength === 0 ?\n",
              "          100 :\n",
              "          Math.round((position / fileData.byteLength) * 100);\n",
              "      percent.textContent = `${percentDone}% done`;\n",
              "\n",
              "    } while (position < fileData.byteLength);\n",
              "  }\n",
              "\n",
              "  // All done.\n",
              "  yield {\n",
              "    response: {\n",
              "      action: 'complete',\n",
              "    }\n",
              "  };\n",
              "}\n",
              "\n",
              "scope.google = scope.google || {};\n",
              "scope.google.colab = scope.google.colab || {};\n",
              "scope.google.colab._files = {\n",
              "  _uploadFiles,\n",
              "  _uploadFilesContinue,\n",
              "};\n",
              "})(self);\n",
              "</script> "
            ]
          },
          "metadata": {}
        },
        {
          "output_type": "stream",
          "name": "stdout",
          "text": [
            "Saving A-healthy-Leaf-of-Tulsi-182203-pixahive.webp to A-healthy-Leaf-of-Tulsi-182203-pixahive.webp\n"
          ]
        }
      ]
    },
    {
      "cell_type": "code",
      "source": [
        "import numpy as np\n",
        "from tensorflow.keras.preprocessing import image\n",
        "\n",
        "# Set the image path to the image you want to predict\n",
        "\n",
        "# Load and preprocess the image\n",
        "test_image = image.load_img(image_path, target_size=(224, 224))\n",
        "test_image = image.img_to_array(test_image)\n",
        "test_image = test_image / 255.0  # Rescale the image\n",
        "test_image = np.expand_dims(test_image, axis=0)\n",
        "\n",
        "# Predict using the trained model\n",
        "result = model.predict(test_image)\n",
        "\n",
        "# Get class indices from the training set\n",
        "class_indices = train_generator.class_indices\n",
        "\n",
        "# Interpret the result\n",
        "if result[0][0] > 0.5:  # Since it's a binary classification with sigmoid activation\n",
        "    prediction = 'Healthy'\n",
        "else:\n",
        "    prediction = 'Diseased'\n",
        "\n",
        "print(f'The prediction for the image is: {prediction}')"
      ],
      "metadata": {
        "colab": {
          "base_uri": "https://localhost:8080/"
        },
        "id": "clCHY1rH_3uL",
        "outputId": "6bed047a-fade-482c-dbb0-935bde463580"
      },
      "execution_count": 13,
      "outputs": [
        {
          "output_type": "stream",
          "name": "stdout",
          "text": [
            "1/1 [==============================] - 1s 956ms/step\n",
            "The prediction for the image is: Diseased\n"
          ]
        }
      ]
    }
  ]
}
